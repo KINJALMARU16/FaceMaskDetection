{
  "nbformat": 4,
  "nbformat_minor": 0,
  "metadata": {
    "anaconda-cloud": {},
    "kernelspec": {
      "display_name": "Python 3",
      "language": "python",
      "name": "python3"
    },
    "language_info": {
      "codemirror_mode": {
        "name": "ipython",
        "version": 3
      },
      "file_extension": ".py",
      "mimetype": "text/x-python",
      "name": "python",
      "nbconvert_exporter": "python",
      "pygments_lexer": "ipython3",
      "version": "3.6.1"
    },
    "colab": {
      "name": "solution.ipynb",
      "provenance": [],
      "collapsed_sections": []
    },
    "accelerator": "GPU"
  },
  "cells": [
    {
      "cell_type": "code",
      "metadata": {
        "id": "l4YI36WJXo6Q",
        "colab_type": "code",
        "colab": {
          "base_uri": "https://localhost:8080/",
          "height": 122
        },
        "outputId": "ff7bb37d-7262-43bc-caff-f4f661149fb4"
      },
      "source": [
        "# Mount the code from google drive\n",
        "\n",
        "from google.colab import drive\n",
        "drive.mount('/content/drive')"
      ],
      "execution_count": 1,
      "outputs": [
        {
          "output_type": "stream",
          "text": [
            "Go to this URL in a browser: https://accounts.google.com/o/oauth2/auth?client_id=947318989803-6bn6qk8qdgf4n4g3pfee6491hc0brc4i.apps.googleusercontent.com&redirect_uri=urn%3aietf%3awg%3aoauth%3a2.0%3aoob&scope=email%20https%3a%2f%2fwww.googleapis.com%2fauth%2fdocs.test%20https%3a%2f%2fwww.googleapis.com%2fauth%2fdrive%20https%3a%2f%2fwww.googleapis.com%2fauth%2fdrive.photos.readonly%20https%3a%2f%2fwww.googleapis.com%2fauth%2fpeopleapi.readonly&response_type=code\n",
            "\n",
            "Enter your authorization code:\n",
            "··········\n",
            "Mounted at /content/drive\n"
          ],
          "name": "stdout"
        }
      ]
    },
    {
      "cell_type": "code",
      "metadata": {
        "id": "7V0pi5RwdGXR",
        "colab_type": "code",
        "colab": {
          "base_uri": "https://localhost:8080/",
          "height": 1000
        },
        "outputId": "85ace087-0f0e-4e9f-c7e9-2233244a284c"
      },
      "source": [
        "# Install required packages for the code  \n",
        "!pip install keras==2.2.4\n",
        "!pip install tensorflow==2.0\n"
      ],
      "execution_count": null,
      "outputs": [
        {
          "output_type": "stream",
          "text": [
            "Collecting keras==2.2.4\n",
            "\u001b[?25l  Downloading https://files.pythonhosted.org/packages/5e/10/aa32dad071ce52b5502266b5c659451cfd6ffcbf14e6c8c4f16c0ff5aaab/Keras-2.2.4-py2.py3-none-any.whl (312kB)\n",
            "\u001b[K     |████████████████████████████████| 317kB 5.2MB/s \n",
            "\u001b[?25hRequirement already satisfied: numpy>=1.9.1 in /usr/local/lib/python3.6/dist-packages (from keras==2.2.4) (1.18.5)\n",
            "Requirement already satisfied: keras-preprocessing>=1.0.5 in /usr/local/lib/python3.6/dist-packages (from keras==2.2.4) (1.1.2)\n",
            "Requirement already satisfied: six>=1.9.0 in /usr/local/lib/python3.6/dist-packages (from keras==2.2.4) (1.15.0)\n",
            "Requirement already satisfied: scipy>=0.14 in /usr/local/lib/python3.6/dist-packages (from keras==2.2.4) (1.4.1)\n",
            "Requirement already satisfied: pyyaml in /usr/local/lib/python3.6/dist-packages (from keras==2.2.4) (3.13)\n",
            "Requirement already satisfied: h5py in /usr/local/lib/python3.6/dist-packages (from keras==2.2.4) (2.10.0)\n",
            "Collecting keras-applications>=1.0.6\n",
            "\u001b[?25l  Downloading https://files.pythonhosted.org/packages/71/e3/19762fdfc62877ae9102edf6342d71b28fbfd9dea3d2f96a882ce099b03f/Keras_Applications-1.0.8-py3-none-any.whl (50kB)\n",
            "\u001b[K     |████████████████████████████████| 51kB 7.8MB/s \n",
            "\u001b[?25hInstalling collected packages: keras-applications, keras\n",
            "  Found existing installation: Keras 2.4.3\n",
            "    Uninstalling Keras-2.4.3:\n",
            "      Successfully uninstalled Keras-2.4.3\n",
            "Successfully installed keras-2.2.4 keras-applications-1.0.8\n",
            "Collecting tensorflow==2.0\n",
            "\u001b[?25l  Downloading https://files.pythonhosted.org/packages/46/0f/7bd55361168bb32796b360ad15a25de6966c9c1beb58a8e30c01c8279862/tensorflow-2.0.0-cp36-cp36m-manylinux2010_x86_64.whl (86.3MB)\n",
            "\u001b[K     |████████████████████████████████| 86.3MB 51kB/s \n",
            "\u001b[?25hRequirement already satisfied: keras-applications>=1.0.8 in /usr/local/lib/python3.6/dist-packages (from tensorflow==2.0) (1.0.8)\n",
            "Requirement already satisfied: six>=1.10.0 in /usr/local/lib/python3.6/dist-packages (from tensorflow==2.0) (1.15.0)\n",
            "Collecting tensorflow-estimator<2.1.0,>=2.0.0\n",
            "\u001b[?25l  Downloading https://files.pythonhosted.org/packages/fc/08/8b927337b7019c374719145d1dceba21a8bb909b93b1ad6f8fb7d22c1ca1/tensorflow_estimator-2.0.1-py2.py3-none-any.whl (449kB)\n",
            "\u001b[K     |████████████████████████████████| 450kB 52.5MB/s \n",
            "\u001b[?25hRequirement already satisfied: opt-einsum>=2.3.2 in /usr/local/lib/python3.6/dist-packages (from tensorflow==2.0) (3.3.0)\n",
            "Collecting tensorboard<2.1.0,>=2.0.0\n",
            "\u001b[?25l  Downloading https://files.pythonhosted.org/packages/76/54/99b9d5d52d5cb732f099baaaf7740403e83fe6b0cedde940fabd2b13d75a/tensorboard-2.0.2-py3-none-any.whl (3.8MB)\n",
            "\u001b[K     |████████████████████████████████| 3.8MB 49.2MB/s \n",
            "\u001b[?25hRequirement already satisfied: termcolor>=1.1.0 in /usr/local/lib/python3.6/dist-packages (from tensorflow==2.0) (1.1.0)\n",
            "Requirement already satisfied: keras-preprocessing>=1.0.5 in /usr/local/lib/python3.6/dist-packages (from tensorflow==2.0) (1.1.2)\n",
            "Collecting gast==0.2.2\n",
            "  Downloading https://files.pythonhosted.org/packages/4e/35/11749bf99b2d4e3cceb4d55ca22590b0d7c2c62b9de38ac4a4a7f4687421/gast-0.2.2.tar.gz\n",
            "Requirement already satisfied: google-pasta>=0.1.6 in /usr/local/lib/python3.6/dist-packages (from tensorflow==2.0) (0.2.0)\n",
            "Requirement already satisfied: grpcio>=1.8.6 in /usr/local/lib/python3.6/dist-packages (from tensorflow==2.0) (1.31.0)\n",
            "Requirement already satisfied: absl-py>=0.7.0 in /usr/local/lib/python3.6/dist-packages (from tensorflow==2.0) (0.9.0)\n",
            "Requirement already satisfied: protobuf>=3.6.1 in /usr/local/lib/python3.6/dist-packages (from tensorflow==2.0) (3.12.4)\n",
            "Requirement already satisfied: astor>=0.6.0 in /usr/local/lib/python3.6/dist-packages (from tensorflow==2.0) (0.8.1)\n",
            "Requirement already satisfied: wrapt>=1.11.1 in /usr/local/lib/python3.6/dist-packages (from tensorflow==2.0) (1.12.1)\n",
            "Requirement already satisfied: wheel>=0.26 in /usr/local/lib/python3.6/dist-packages (from tensorflow==2.0) (0.34.2)\n",
            "Requirement already satisfied: numpy<2.0,>=1.16.0 in /usr/local/lib/python3.6/dist-packages (from tensorflow==2.0) (1.18.5)\n",
            "Requirement already satisfied: h5py in /usr/local/lib/python3.6/dist-packages (from keras-applications>=1.0.8->tensorflow==2.0) (2.10.0)\n",
            "Requirement already satisfied: google-auth-oauthlib<0.5,>=0.4.1 in /usr/local/lib/python3.6/dist-packages (from tensorboard<2.1.0,>=2.0.0->tensorflow==2.0) (0.4.1)\n",
            "Requirement already satisfied: google-auth<2,>=1.6.3 in /usr/local/lib/python3.6/dist-packages (from tensorboard<2.1.0,>=2.0.0->tensorflow==2.0) (1.17.2)\n",
            "Requirement already satisfied: markdown>=2.6.8 in /usr/local/lib/python3.6/dist-packages (from tensorboard<2.1.0,>=2.0.0->tensorflow==2.0) (3.2.2)\n",
            "Requirement already satisfied: setuptools>=41.0.0 in /usr/local/lib/python3.6/dist-packages (from tensorboard<2.1.0,>=2.0.0->tensorflow==2.0) (49.2.0)\n",
            "Requirement already satisfied: werkzeug>=0.11.15 in /usr/local/lib/python3.6/dist-packages (from tensorboard<2.1.0,>=2.0.0->tensorflow==2.0) (1.0.1)\n",
            "Requirement already satisfied: requests<3,>=2.21.0 in /usr/local/lib/python3.6/dist-packages (from tensorboard<2.1.0,>=2.0.0->tensorflow==2.0) (2.23.0)\n",
            "Requirement already satisfied: requests-oauthlib>=0.7.0 in /usr/local/lib/python3.6/dist-packages (from google-auth-oauthlib<0.5,>=0.4.1->tensorboard<2.1.0,>=2.0.0->tensorflow==2.0) (1.3.0)\n",
            "Requirement already satisfied: rsa<5,>=3.1.4; python_version >= \"3\" in /usr/local/lib/python3.6/dist-packages (from google-auth<2,>=1.6.3->tensorboard<2.1.0,>=2.0.0->tensorflow==2.0) (4.6)\n",
            "Requirement already satisfied: pyasn1-modules>=0.2.1 in /usr/local/lib/python3.6/dist-packages (from google-auth<2,>=1.6.3->tensorboard<2.1.0,>=2.0.0->tensorflow==2.0) (0.2.8)\n",
            "Requirement already satisfied: cachetools<5.0,>=2.0.0 in /usr/local/lib/python3.6/dist-packages (from google-auth<2,>=1.6.3->tensorboard<2.1.0,>=2.0.0->tensorflow==2.0) (4.1.1)\n",
            "Requirement already satisfied: importlib-metadata; python_version < \"3.8\" in /usr/local/lib/python3.6/dist-packages (from markdown>=2.6.8->tensorboard<2.1.0,>=2.0.0->tensorflow==2.0) (1.7.0)\n",
            "Requirement already satisfied: certifi>=2017.4.17 in /usr/local/lib/python3.6/dist-packages (from requests<3,>=2.21.0->tensorboard<2.1.0,>=2.0.0->tensorflow==2.0) (2020.6.20)\n",
            "Requirement already satisfied: urllib3!=1.25.0,!=1.25.1,<1.26,>=1.21.1 in /usr/local/lib/python3.6/dist-packages (from requests<3,>=2.21.0->tensorboard<2.1.0,>=2.0.0->tensorflow==2.0) (1.24.3)\n",
            "Requirement already satisfied: idna<3,>=2.5 in /usr/local/lib/python3.6/dist-packages (from requests<3,>=2.21.0->tensorboard<2.1.0,>=2.0.0->tensorflow==2.0) (2.10)\n",
            "Requirement already satisfied: chardet<4,>=3.0.2 in /usr/local/lib/python3.6/dist-packages (from requests<3,>=2.21.0->tensorboard<2.1.0,>=2.0.0->tensorflow==2.0) (3.0.4)\n",
            "Requirement already satisfied: oauthlib>=3.0.0 in /usr/local/lib/python3.6/dist-packages (from requests-oauthlib>=0.7.0->google-auth-oauthlib<0.5,>=0.4.1->tensorboard<2.1.0,>=2.0.0->tensorflow==2.0) (3.1.0)\n",
            "Requirement already satisfied: pyasn1>=0.1.3 in /usr/local/lib/python3.6/dist-packages (from rsa<5,>=3.1.4; python_version >= \"3\"->google-auth<2,>=1.6.3->tensorboard<2.1.0,>=2.0.0->tensorflow==2.0) (0.4.8)\n",
            "Requirement already satisfied: zipp>=0.5 in /usr/local/lib/python3.6/dist-packages (from importlib-metadata; python_version < \"3.8\"->markdown>=2.6.8->tensorboard<2.1.0,>=2.0.0->tensorflow==2.0) (3.1.0)\n",
            "Building wheels for collected packages: gast\n",
            "  Building wheel for gast (setup.py) ... \u001b[?25l\u001b[?25hdone\n",
            "  Created wheel for gast: filename=gast-0.2.2-cp36-none-any.whl size=7540 sha256=a548dfdf6a024e25f26d9fab7507225f04f28ab8ae5731e0f624c6c60d81e4d5\n",
            "  Stored in directory: /root/.cache/pip/wheels/5c/2e/7e/a1d4d4fcebe6c381f378ce7743a3ced3699feb89bcfbdadadd\n",
            "Successfully built gast\n",
            "\u001b[31mERROR: tensorflow-probability 0.11.0 has requirement gast>=0.3.2, but you'll have gast 0.2.2 which is incompatible.\u001b[0m\n",
            "Installing collected packages: tensorflow-estimator, tensorboard, gast, tensorflow\n",
            "  Found existing installation: tensorflow-estimator 2.3.0\n",
            "    Uninstalling tensorflow-estimator-2.3.0:\n",
            "      Successfully uninstalled tensorflow-estimator-2.3.0\n",
            "  Found existing installation: tensorboard 2.3.0\n",
            "    Uninstalling tensorboard-2.3.0:\n",
            "      Successfully uninstalled tensorboard-2.3.0\n",
            "  Found existing installation: gast 0.3.3\n",
            "    Uninstalling gast-0.3.3:\n",
            "      Successfully uninstalled gast-0.3.3\n",
            "  Found existing installation: tensorflow 2.3.0\n",
            "    Uninstalling tensorflow-2.3.0:\n",
            "      Successfully uninstalled tensorflow-2.3.0\n",
            "Successfully installed gast-0.2.2 tensorboard-2.0.2 tensorflow-2.0.0 tensorflow-estimator-2.0.1\n"
          ],
          "name": "stdout"
        },
        {
          "output_type": "display_data",
          "data": {
            "application/vnd.colab-display-data+json": {
              "pip_warning": {
                "packages": [
                  "gast",
                  "tensorboard",
                  "tensorflow"
                ]
              }
            }
          },
          "metadata": {
            "tags": []
          }
        }
      ]
    },
    {
      "cell_type": "code",
      "metadata": {
        "id": "QTwnV5jciZqn",
        "colab_type": "code",
        "colab": {
          "base_uri": "https://localhost:8080/",
          "height": 34
        },
        "outputId": "b8e801fc-f789-42c9-9352-5a64397751d3"
      },
      "source": [
        "# import tensorflow library and check the version \n",
        "\n",
        "import tensorflow\n",
        "print(tensorflow.__version__)"
      ],
      "execution_count": null,
      "outputs": [
        {
          "output_type": "stream",
          "text": [
            "2.0.0\n"
          ],
          "name": "stdout"
        }
      ]
    },
    {
      "cell_type": "code",
      "metadata": {
        "id": "fOVw5udcQELA",
        "colab_type": "code",
        "colab": {
          "base_uri": "https://localhost:8080/",
          "height": 71
        },
        "outputId": "7e42aadc-bf2b-4829-c007-1bd95dafaf22"
      },
      "source": [
        "# Import preprocessing methods\n",
        "from tensorflow.keras.applications.mobilenet_v2 import preprocess_input\n",
        "from tensorflow.keras.preprocessing.image import img_to_array\n",
        "from tensorflow.keras.preprocessing.image import load_img\n",
        "\n",
        "from imutils import paths\n",
        "import os\n",
        "\n",
        "data = []\n",
        "labels = []\n",
        "\n",
        "DATA_PATH = \"/content/drive/My Drive/Face_Mask_Detection/Dataset\"  # path of the dataset\n",
        "image_path_list = list(paths.list_images(DATA_PATH))\n",
        "\n",
        "for image_path in image_path_list:\n",
        "    # extract the class label from the filename\n",
        "    label = image_path.split(os.path.sep)[-2]\n",
        "\n",
        "    # load the input image (224x224) and preprocess it\n",
        "    image = load_img(image_path, target_size=(224, 224))\n",
        "    image = img_to_array(image) # this function adds channels: x.shape = (224, 224, 3) for RGB and (224, 224, 1) for gray image\n",
        "    image = preprocess_input(image)\n",
        "    \n",
        "    # update the data and labels lists, respectively\n",
        "    data.append(image)\n",
        "    labels.append(label)"
      ],
      "execution_count": null,
      "outputs": [
        {
          "output_type": "stream",
          "text": [
            "/usr/local/lib/python3.6/dist-packages/PIL/Image.py:932: UserWarning: Palette images with Transparency expressed in bytes should be converted to RGBA images\n",
            "  \"Palette images with Transparency expressed in bytes should be \"\n"
          ],
          "name": "stderr"
        }
      ]
    },
    {
      "cell_type": "code",
      "metadata": {
        "id": "Gy_BUFVVmwt2",
        "colab_type": "code",
        "colab": {}
      },
      "source": [
        "import numpy as np\n",
        "\n",
        "data = np.array(data, dtype=\"float32\")  # converts data array to float32\n",
        "labels = np.array(labels) # converts labels to array"
      ],
      "execution_count": null,
      "outputs": []
    },
    {
      "cell_type": "code",
      "metadata": {
        "id": "5956hye0myt9",
        "colab_type": "code",
        "colab": {}
      },
      "source": [
        "# Below process converts multiclass labels to binary labels and categorizes it\n",
        "\n",
        "from sklearn.preprocessing import LabelBinarizer \n",
        "from tensorflow.keras.utils import to_categorical\n",
        "\n",
        "lb = LabelBinarizer()\n",
        "labels = lb.fit_transform(labels)\n",
        "labels = to_categorical(labels)"
      ],
      "execution_count": null,
      "outputs": []
    },
    {
      "cell_type": "code",
      "metadata": {
        "id": "qBt0dc_Um1s0",
        "colab_type": "code",
        "colab": {}
      },
      "source": [
        "# split the data into train and test \n",
        "from sklearn.model_selection import train_test_split\n",
        "\n",
        "TEST_SIZE = 0.20\n",
        "(trainX, testX, trainY, testY) = train_test_split(data, labels, \n",
        "                                                  test_size=TEST_SIZE, stratify=labels, random_state=42)"
      ],
      "execution_count": null,
      "outputs": []
    },
    {
      "cell_type": "code",
      "metadata": {
        "id": "7lWwhJcjm5DT",
        "colab_type": "code",
        "colab": {}
      },
      "source": [
        "# Apply series of transformation on image like rotate,resize ,sear etc.\n",
        "\n",
        "\n",
        "from tensorflow.keras.preprocessing.image import ImageDataGenerator \n",
        "\n",
        "aug = ImageDataGenerator(\n",
        "    rotation_range=20,\n",
        "    zoom_range=0.15,\n",
        "    width_shift_range=0.2,\n",
        "    height_shift_range=0.2,\n",
        "    shear_range=0.15,\n",
        "    horizontal_flip=True,\n",
        "    fill_mode=\"nearest\")"
      ],
      "execution_count": null,
      "outputs": []
    },
    {
      "cell_type": "code",
      "metadata": {
        "id": "I1NvXnrJm60F",
        "colab_type": "code",
        "colab": {
          "base_uri": "https://localhost:8080/",
          "height": 71
        },
        "outputId": "532f3372-04e2-4ace-d3c3-8ea867a66ddc"
      },
      "source": [
        "# get the pretrained model as the base model . \n",
        "# MobileNet model has been processed on ImageNet dataset and then our training dataset\n",
        "\n",
        "# Include_top is false because we have not include fully connected layer at the top of network\n",
        "from tensorflow.keras.applications import MobileNetV2\n",
        "from tensorflow.keras.layers import Input\n",
        " \n",
        "baseModel = MobileNetV2(\n",
        "    weights=\"imagenet\",\n",
        "    include_top=False,\n",
        "    input_tensor=Input(shape=(224, 224, 3)))"
      ],
      "execution_count": null,
      "outputs": [
        {
          "output_type": "stream",
          "text": [
            "/usr/local/lib/python3.6/dist-packages/keras_applications/mobilenet_v2.py:294: UserWarning: `input_shape` is undefined or non-square, or `rows` is not in [96, 128, 160, 192, 224]. Weights for input shape (224, 224) will be loaded as the default.\n",
            "  warnings.warn('`input_shape` is undefined or non-square, '\n"
          ],
          "name": "stderr"
        }
      ]
    },
    {
      "cell_type": "code",
      "metadata": {
        "id": "QIheLMaxm-kC",
        "colab_type": "code",
        "colab": {}
      },
      "source": [
        "# add layers on the base MobileNet model like Averagepooling,Flatten , Dense,Dropout\n",
        "\n",
        "from tensorflow.keras.layers import AveragePooling2D\n",
        "from tensorflow.keras.layers import Dense\n",
        "from tensorflow.keras.layers import Dropout\n",
        "from tensorflow.keras.layers import Flatten\n",
        "\n",
        "headModel = baseModel.output\n",
        "headModel = AveragePooling2D(pool_size=(7, 7))(headModel)\n",
        "headModel = Flatten(name=\"flatten\")(headModel) \n",
        "headModel = Dense(128, activation=\"relu\")(headModel)\n",
        "headModel = Dropout(0.5)(headModel) \n",
        "headModel = Dense(2, activation=\"softmax\")(headModel) "
      ],
      "execution_count": null,
      "outputs": []
    },
    {
      "cell_type": "code",
      "metadata": {
        "id": "sPnb20tanAV8",
        "colab_type": "code",
        "colab": {}
      },
      "source": [
        "# Placing the FC headModel on top of base model \n",
        "from tensorflow.keras.models import Model\n",
        "\n",
        "model = Model(inputs=baseModel.input, outputs=headModel)"
      ],
      "execution_count": null,
      "outputs": []
    },
    {
      "cell_type": "code",
      "metadata": {
        "id": "FQs2htitnClU",
        "colab_type": "code",
        "colab": {}
      },
      "source": [
        "# loop over all layers in the base model and freeze them so they will\n",
        "#not be updated during the first training process\n",
        "\n",
        "for layer in baseModel.layers:\n",
        "    layer.trainable = False\n",
        "\n",
        "#setting the variables\n",
        "INIT_LR = 1e-4 # learning rate\n",
        "EPOCHS = 1 #How many times it sould run\n",
        "BATCH_SIZE = 32 # number of training samples in one epoch"
      ],
      "execution_count": null,
      "outputs": []
    },
    {
      "cell_type": "code",
      "metadata": {
        "id": "ojk891SRnG9s",
        "colab_type": "code",
        "colab": {}
      },
      "source": [
        "# compile the model \n",
        "from tensorflow.keras.optimizers import Adam \n",
        "\n",
        "opt = Adam(lr=INIT_LR, decay=INIT_LR / EPOCHS) \n",
        "model.compile(loss=\"binary_crossentropy\", optimizer=opt, metrics=[\"accuracy\"]) "
      ],
      "execution_count": null,
      "outputs": []
    },
    {
      "cell_type": "code",
      "metadata": {
        "id": "mx3p4Y_FnJel",
        "colab_type": "code",
        "colab": {
          "base_uri": "https://localhost:8080/",
          "height": 734
        },
        "outputId": "e3124ad9-2881-4479-da02-44bc526986fa"
      },
      "source": [
        "# train the head of the network for a 20 epochs \n",
        "# So that the new FC layers will start to become\n",
        "# initialized with actual \"learned\" values versus pure random\n",
        "\n",
        "H = model.fit(\n",
        "    aug.flow(trainX, trainY, batch_size=BATCH_SIZE), \n",
        "    steps_per_epoch=len(trainX) // BATCH_SIZE,\n",
        "    validation_data=(testX, testY),\n",
        "    validation_steps=len(testX) // BATCH_SIZE,\n",
        "    epochs=20)\n"
      ],
      "execution_count": null,
      "outputs": [
        {
          "output_type": "stream",
          "text": [
            "Train for 95 steps, validate on 767 samples\n",
            "Epoch 1/20\n",
            "95/95 [==============================] - 325s 3s/step - loss: 0.5288 - accuracy: 0.7343 - val_loss: 0.5086 - val_accuracy: 0.7473\n",
            "Epoch 2/20\n",
            "95/95 [==============================] - 323s 3s/step - loss: 0.2979 - accuracy: 0.8810 - val_loss: 0.4048 - val_accuracy: 0.8247\n",
            "Epoch 3/20\n",
            "95/95 [==============================] - 325s 3s/step - loss: 0.2284 - accuracy: 0.9113 - val_loss: 0.4146 - val_accuracy: 0.8370\n",
            "Epoch 4/20\n",
            "95/95 [==============================] - 344s 4s/step - loss: 0.1977 - accuracy: 0.9232 - val_loss: 0.2755 - val_accuracy: 0.8859\n",
            "Epoch 5/20\n",
            "95/95 [==============================] - 359s 4s/step - loss: 0.1750 - accuracy: 0.9370 - val_loss: 0.2597 - val_accuracy: 0.8940\n",
            "Epoch 6/20\n",
            "95/95 [==============================] - 363s 4s/step - loss: 0.1510 - accuracy: 0.9525 - val_loss: 0.2317 - val_accuracy: 0.9090\n",
            "Epoch 7/20\n",
            "95/95 [==============================] - 356s 4s/step - loss: 0.1433 - accuracy: 0.9506 - val_loss: 0.2922 - val_accuracy: 0.8927\n",
            "Epoch 8/20\n",
            "95/95 [==============================] - 340s 4s/step - loss: 0.1294 - accuracy: 0.9545 - val_loss: 0.2145 - val_accuracy: 0.9144\n",
            "Epoch 9/20\n",
            "95/95 [==============================] - 341s 4s/step - loss: 0.1289 - accuracy: 0.9525 - val_loss: 0.1863 - val_accuracy: 0.9253\n",
            "Epoch 10/20\n",
            "95/95 [==============================] - 346s 4s/step - loss: 0.1263 - accuracy: 0.9532 - val_loss: 0.2537 - val_accuracy: 0.9103\n",
            "Epoch 11/20\n",
            "95/95 [==============================] - 344s 4s/step - loss: 0.1140 - accuracy: 0.9575 - val_loss: 0.2177 - val_accuracy: 0.9171\n",
            "Epoch 12/20\n",
            "95/95 [==============================] - 336s 4s/step - loss: 0.1212 - accuracy: 0.9565 - val_loss: 0.2238 - val_accuracy: 0.9158\n",
            "Epoch 13/20\n",
            "95/95 [==============================] - 332s 3s/step - loss: 0.1059 - accuracy: 0.9614 - val_loss: 0.1561 - val_accuracy: 0.9402\n",
            "Epoch 14/20\n",
            "95/95 [==============================] - 329s 3s/step - loss: 0.1018 - accuracy: 0.9624 - val_loss: 0.2034 - val_accuracy: 0.9198\n",
            "Epoch 15/20\n",
            "95/95 [==============================] - 329s 3s/step - loss: 0.1027 - accuracy: 0.9641 - val_loss: 0.1857 - val_accuracy: 0.9293\n",
            "Epoch 16/20\n",
            "95/95 [==============================] - 328s 3s/step - loss: 0.0948 - accuracy: 0.9690 - val_loss: 0.3073 - val_accuracy: 0.8981\n",
            "Epoch 17/20\n",
            "95/95 [==============================] - 328s 3s/step - loss: 0.0948 - accuracy: 0.9664 - val_loss: 0.2382 - val_accuracy: 0.9185\n",
            "Epoch 18/20\n",
            "95/95 [==============================] - 328s 3s/step - loss: 0.0934 - accuracy: 0.9657 - val_loss: 0.1847 - val_accuracy: 0.9280\n",
            "Epoch 19/20\n",
            "95/95 [==============================] - 330s 3s/step - loss: 0.0954 - accuracy: 0.9667 - val_loss: 0.1872 - val_accuracy: 0.9293\n",
            "Epoch 20/20\n",
            "95/95 [==============================] - 327s 3s/step - loss: 0.0816 - accuracy: 0.9703 - val_loss: 0.1781 - val_accuracy: 0.9321\n"
          ],
          "name": "stdout"
        }
      ]
    },
    {
      "cell_type": "code",
      "metadata": {
        "id": "3iV8VbcbdmeA",
        "colab_type": "code",
        "colab": {}
      },
      "source": [
        "# save the model \n",
        "model.save(\"mobile_net_model_tensorflow.h5\",save_format=\"h5\")\n"
      ],
      "execution_count": null,
      "outputs": []
    },
    {
      "cell_type": "code",
      "metadata": {
        "id": "XvcL8-4sgpEz",
        "colab_type": "code",
        "colab": {
          "base_uri": "https://localhost:8080/",
          "height": 319
        },
        "outputId": "062a1651-5e9a-4251-c225-1f0e02a1dd0d"
      },
      "source": [
        "# get th egraph of Accuray vs. Val_accuracy\n",
        "import pandas as pd\n",
        "print(H.history)  \n",
        "history_df = pd.DataFrame(H.history)\n",
        "history_df[['accuracy', 'val_accuracy']].plot()"
      ],
      "execution_count": null,
      "outputs": [
        {
          "output_type": "stream",
          "text": [
            "{'loss': [0.5291889481388902, 0.29806116544540256, 0.22847757983066255, 0.19769758532215437, 0.17511183877052566, 0.1511769289434467, 0.14345781051295323, 0.12958936500329285, 0.12904108945837756, 0.12643429096211078, 0.11414726967717678, 0.12124130541879878, 0.10606090203124045, 0.10195670142308143, 0.10287610495471608, 0.09480275168533614, 0.09475101942126501, 0.09341892789639214, 0.09544298575359815, 0.08171750730346831], 'accuracy': [0.7343441, 0.8810152, 0.91133815, 0.9232037, 0.9370468, 0.9525379, 0.95056033, 0.9545155, 0.9525379, 0.9531971, 0.95748186, 0.9564931, 0.96143705, 0.9624258, 0.96407384, 0.9690178, 0.966381, 0.96572185, 0.9667106, 0.9703362], 'val_loss': [0.5085798721114535, 0.40475051126393063, 0.41463129088340867, 0.27554595423801626, 0.25973315873077674, 0.2317139817962746, 0.2922012569696061, 0.21448062078582883, 0.18628412368555577, 0.25371099917176804, 0.21770398853033432, 0.22377562041077495, 0.15612758589226078, 0.2034137792972729, 0.18572730198988238, 0.3073051675202172, 0.23820399220017752, 0.18473986696544184, 0.18723024523087245, 0.17811865908381525], 'val_accuracy': [0.7472826, 0.82472825, 0.8369565, 0.88586956, 0.89402175, 0.9089674, 0.89266306, 0.9144022, 0.92527175, 0.91032606, 0.91711956, 0.9157609, 0.9402174, 0.91983694, 0.9293478, 0.8980978, 0.91847825, 0.9279891, 0.9293478, 0.9320652]}\n"
          ],
          "name": "stdout"
        },
        {
          "output_type": "execute_result",
          "data": {
            "text/plain": [
              "<matplotlib.axes._subplots.AxesSubplot at 0x7f89b4bbb550>"
            ]
          },
          "metadata": {
            "tags": []
          },
          "execution_count": 40
        },
        {
          "output_type": "display_data",
          "data": {
            "image/png": "[encoded data removed]",
            "text/plain": [
              "<Figure size 432x288 with 1 Axes>"
            ]
          },
          "metadata": {
            "tags": [],
            "needs_background": "light"
          }
        }
      ]
    },
    {
      "cell_type": "code",
      "metadata": {
        "id": "Q-ZDYgt9tbCd",
        "colab_type": "code",
        "colab": {}
      },
      "source": [
        "# load the model\n",
        "from tensorflow.keras.models import load_model\n",
        "\n",
        "model = load_model(\"mobile_net_model_tensorflow.h5\")"
      ],
      "execution_count": null,
      "outputs": []
    },
    {
      "cell_type": "code",
      "metadata": {
        "id": "jgrZD1t9e9CP",
        "colab_type": "code",
        "colab": {}
      },
      "source": [
        "#CNN_Model\n",
        "# import all the libraries for CNN model and layers and optimizer\n",
        "import tensorflow.keras\n",
        "import tensorflow.keras.backend as k\n",
        "from tensorflow.keras.layers import Conv2D,MaxPooling2D,SpatialDropout2D,Flatten,Dropout,Dense\n",
        "from tensorflow.keras.models import Sequential,load_model\n",
        "from tensorflow.keras.optimizers import Adam\n",
        "from tensorflow.keras.preprocessing import image\n",
        "\n",
        "# add the layers in model\n",
        "model=Sequential()\n",
        "model.add(Conv2D(32,(3,3),activation='relu',input_shape=(224, 224,3)))\n",
        "model.add(MaxPooling2D() )\n",
        "model.add(Conv2D(32,(3,3),activation='relu'))\n",
        "model.add(MaxPooling2D() )\n",
        "model.add(Conv2D(32,(3,3),activation='relu'))\n",
        "model.add(MaxPooling2D() )\n",
        "model.add(Flatten())\n",
        "# add activators \n",
        "model.add(Dense(100,activation='relu'))\n",
        "model.add(Dense(2,activation='sigmoid'))\n",
        "model.compile(optimizer='adam',loss='binary_crossentropy',metrics=['accuracy'])\n",
        "\n"
      ],
      "execution_count": null,
      "outputs": []
    },
    {
      "cell_type": "code",
      "metadata": {
        "id": "VOZ7a5JafIre",
        "colab_type": "code",
        "colab": {}
      },
      "source": [
        "from tensorflow.keras.preprocessing.image import ImageDataGenerator\n",
        "train_datagen = ImageDataGenerator(\n",
        "        rescale=1./255, \n",
        "        shear_range=0.2,\n",
        "        zoom_range=0.2,\n",
        "        horizontal_flip=True)"
      ],
      "execution_count": null,
      "outputs": []
    },
    {
      "cell_type": "code",
      "metadata": {
        "id": "fLtoDe8pfUCf",
        "colab_type": "code",
        "colab": {}
      },
      "source": [
        "# Rescale the so that its resolution comes between 0 to 1\n",
        "test_datagen = ImageDataGenerator(rescale=1./255) "
      ],
      "execution_count": null,
      "outputs": []
    },
    {
      "cell_type": "code",
      "metadata": {
        "id": "gPFEBUsngOPQ",
        "colab_type": "code",
        "colab": {}
      },
      "source": [
        "INIT_LR = 1e-4\n",
        "EPOCHS = 1\n",
        "BATCH_SIZE = 32"
      ],
      "execution_count": null,
      "outputs": []
    },
    {
      "cell_type": "code",
      "metadata": {
        "id": "_S7HMC3hffbA",
        "colab_type": "code",
        "colab": {
          "base_uri": "https://localhost:8080/",
          "height": 734
        },
        "outputId": "f4f84e49-709b-4155-e646-4a35ae6caa05"
      },
      "source": [
        "# fit the CNN model\n",
        "History=model.fit(\n",
        "    train_datagen.flow(trainX, trainY, batch_size=BATCH_SIZE),\n",
        "    steps_per_epoch=len(trainX) // BATCH_SIZE,\n",
        "    validation_data=(testX, testY),\n",
        "    validation_steps=len(testX) // BATCH_SIZE,\n",
        "    epochs=20)\n",
        "\n",
        "model.save('cnn_tensorflow.h5')"
      ],
      "execution_count": null,
      "outputs": [
        {
          "output_type": "stream",
          "text": [
            "Train for 95 steps, validate on 767 samples\n",
            "Epoch 1/20\n",
            "95/95 [==============================] - 184s 2s/step - loss: 0.4876 - accuracy: 0.7399 - val_loss: 8.8175 - val_accuracy: 0.8947\n",
            "Epoch 2/20\n",
            "95/95 [==============================] - 182s 2s/step - loss: 0.2516 - accuracy: 0.9044 - val_loss: 8.4837 - val_accuracy: 0.9287\n",
            "Epoch 3/20\n",
            "95/95 [==============================] - 181s 2s/step - loss: 0.2247 - accuracy: 0.9194 - val_loss: 10.2096 - val_accuracy: 0.9151\n",
            "Epoch 4/20\n",
            "95/95 [==============================] - 180s 2s/step - loss: 0.2286 - accuracy: 0.9164 - val_loss: 10.3834 - val_accuracy: 0.9110\n",
            "Epoch 5/20\n",
            "95/95 [==============================] - 180s 2s/step - loss: 0.2042 - accuracy: 0.9278 - val_loss: 10.5662 - val_accuracy: 0.9035\n",
            "Epoch 6/20\n",
            "95/95 [==============================] - 179s 2s/step - loss: 0.1983 - accuracy: 0.9273 - val_loss: 12.3824 - val_accuracy: 0.9185\n",
            "Epoch 7/20\n",
            "95/95 [==============================] - 179s 2s/step - loss: 0.1960 - accuracy: 0.9277 - val_loss: 12.5429 - val_accuracy: 0.8981\n",
            "Epoch 8/20\n",
            "95/95 [==============================] - 178s 2s/step - loss: 0.1885 - accuracy: 0.9298 - val_loss: 16.1795 - val_accuracy: 0.8716\n",
            "Epoch 9/20\n",
            "95/95 [==============================] - 178s 2s/step - loss: 0.1807 - accuracy: 0.9314 - val_loss: 14.5811 - val_accuracy: 0.9117\n",
            "Epoch 10/20\n",
            "95/95 [==============================] - 178s 2s/step - loss: 0.1704 - accuracy: 0.9403 - val_loss: 11.5757 - val_accuracy: 0.9130\n",
            "Epoch 11/20\n",
            "95/95 [==============================] - 179s 2s/step - loss: 0.1774 - accuracy: 0.9341 - val_loss: 10.1296 - val_accuracy: 0.9226\n",
            "Epoch 12/20\n",
            "95/95 [==============================] - 179s 2s/step - loss: 0.1533 - accuracy: 0.9445 - val_loss: 15.3404 - val_accuracy: 0.9192\n",
            "Epoch 13/20\n",
            "95/95 [==============================] - 177s 2s/step - loss: 0.1684 - accuracy: 0.9370 - val_loss: 15.4713 - val_accuracy: 0.9205\n",
            "Epoch 14/20\n",
            "95/95 [==============================] - 177s 2s/step - loss: 0.1546 - accuracy: 0.9415 - val_loss: 12.1323 - val_accuracy: 0.9198\n",
            "Epoch 15/20\n",
            "95/95 [==============================] - 180s 2s/step - loss: 0.1498 - accuracy: 0.9443 - val_loss: 10.2723 - val_accuracy: 0.9226\n",
            "Epoch 16/20\n",
            "95/95 [==============================] - 178s 2s/step - loss: 0.1633 - accuracy: 0.9380 - val_loss: 14.0417 - val_accuracy: 0.9124\n",
            "Epoch 17/20\n",
            "95/95 [==============================] - 178s 2s/step - loss: 0.1345 - accuracy: 0.9519 - val_loss: 21.9364 - val_accuracy: 0.8920\n",
            "Epoch 18/20\n",
            "95/95 [==============================] - 177s 2s/step - loss: 0.1351 - accuracy: 0.9492 - val_loss: 16.5084 - val_accuracy: 0.9042\n",
            "Epoch 19/20\n",
            "95/95 [==============================] - 178s 2s/step - loss: 0.1342 - accuracy: 0.9522 - val_loss: 14.0158 - val_accuracy: 0.8981\n",
            "Epoch 20/20\n",
            "95/95 [==============================] - 179s 2s/step - loss: 0.1227 - accuracy: 0.9535 - val_loss: 21.1880 - val_accuracy: 0.8865\n"
          ],
          "name": "stdout"
        }
      ]
    },
    {
      "cell_type": "code",
      "metadata": {
        "id": "uy86w8aMnyKT",
        "colab_type": "code",
        "colab": {
          "base_uri": "https://localhost:8080/",
          "height": 319
        },
        "outputId": "de5d951e-7ccf-4795-9a18-4feb675088a8"
      },
      "source": [
        "# get the graph of accuracy vs. val_accuracy of trained CNN model \n",
        "\n",
        "import pandas as pd\n",
        "print(History.history)  \n",
        "history_df = pd.DataFrame(History.history)\n",
        "history_df[['accuracy', 'val_accuracy']].plot()"
      ],
      "execution_count": null,
      "outputs": [
        {
          "output_type": "stream",
          "text": [
            "{'loss': [0.4880499522506837, 0.25159560617405724, 0.2248992214547857, 0.22870891361976817, 0.2043754472179325, 0.19852343824892824, 0.19623796341249483, 0.18874051312356696, 0.18094619029571762, 0.17043639060377525, 0.17755021321376688, 0.1533990926210552, 0.1683248755428142, 0.15483929271623736, 0.14991680029767393, 0.16343679815904041, 0.13472572088379095, 0.13527277318040007, 0.13434592223356018, 0.12289193196709641], 'accuracy': [0.73994726, 0.9044166, 0.9194133, 0.9164469, 0.92781806, 0.92732364, 0.92765325, 0.9297956, 0.93144363, 0.9403428, 0.9340804, 0.9444628, 0.9370468, 0.9414964, 0.94429797, 0.9380356, 0.9518787, 0.94924194, 0.9522083, 0.9535267], 'val_loss': [8.817491892732662, 8.483692109507189, 10.209629824761462, 10.38336961987432, 10.566212978636582, 12.382384828669462, 12.542932806300993, 16.17946478534087, 14.581110234366246, 11.575657406251153, 10.129575568798934, 15.340430417614158, 15.471270893201368, 12.132280944118621, 10.27230351782529, 14.041720529578654, 21.93644313675664, 16.508352963523418, 14.015828750590458, 21.188007722777524], 'val_accuracy': [0.89470106, 0.9286685, 0.9150815, 0.91100544, 0.9035326, 0.91847825, 0.8980978, 0.87160325, 0.9116848, 0.9130435, 0.9225544, 0.9191576, 0.9205163, 0.91983694, 0.9225544, 0.9123641, 0.8919837, 0.90421194, 0.8980978, 0.88654894]}\n"
          ],
          "name": "stdout"
        },
        {
          "output_type": "execute_result",
          "data": {
            "text/plain": [
              "<matplotlib.axes._subplots.AxesSubplot at 0x7f89b01d12e8>"
            ]
          },
          "metadata": {
            "tags": []
          },
          "execution_count": 50
        },
        {
          "output_type": "display_data",
          "data": {
            "image/png": "[encoded data removed]",
            "text/plain": [
              "<Figure size 432x288 with 1 Axes>"
            ]
          },
          "metadata": {
            "tags": [],
            "needs_background": "light"
          }
        }
      ]
    },
    {
      "cell_type": "code",
      "metadata": {
        "id": "Fi0x6Wqin6RY",
        "colab_type": "code",
        "colab": {}
      },
      "source": [
        "# load the model\n",
        "from tensorflow.keras.models import load_model\n",
        "\n",
        "model = load_model(\"cnn_tensorflow.h5\")"
      ],
      "execution_count": null,
      "outputs": []
    },
    {
      "cell_type": "code",
      "metadata": {
        "id": "Q2qo68iChznW",
        "colab_type": "code",
        "colab": {}
      },
      "source": [
        ""
      ],
      "execution_count": null,
      "outputs": []
    }
  ]
}